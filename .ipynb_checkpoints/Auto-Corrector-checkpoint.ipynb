{
 "cells": [
  {
   "cell_type": "code",
   "execution_count": null,
   "metadata": {
    "colab": {
     "base_uri": "https://localhost:8080/"
    },
    "executionInfo": {
     "elapsed": 1024,
     "status": "ok",
     "timestamp": 1614185766623,
     "user": {
      "displayName": "aniket poojari",
      "photoUrl": "https://lh3.googleusercontent.com/a-/AOh14Ggq_cw5GlJ_HceHGjFtLxCCLPqiYvg5ffKS76adUw=s64",
      "userId": "09624879631889696305"
     },
     "user_tz": -330
    },
    "id": "UJmmuccUA31w",
    "outputId": "f604e640-2bf2-40b8-c35c-5ea0b20eba5d"
   },
   "outputs": [
    {
     "name": "stdout",
     "output_type": "stream",
     "text": [
      "Drive already mounted at /content/drive; to attempt to forcibly remount, call drive.mount(\"/content/drive\", force_remount=True).\n"
     ]
    }
   ],
   "source": [
    "from google.colab import drive\n",
    "drive.mount('/content/drive')"
   ]
  },
  {
   "cell_type": "markdown",
   "metadata": {
    "id": "DIMOzoyXwl4C"
   },
   "source": [
    "# IMPORTS"
   ]
  },
  {
   "cell_type": "code",
   "execution_count": null,
   "metadata": {
    "id": "07VIC8VIBt-X"
   },
   "outputs": [],
   "source": [
    "import re\n",
    "from collections import Counter"
   ]
  },
  {
   "cell_type": "markdown",
   "metadata": {
    "id": "4LH4BWUVwpYi"
   },
   "source": [
    "# LOADING DATA"
   ]
  },
  {
   "cell_type": "code",
   "execution_count": null,
   "metadata": {
    "id": "2QfJvY2jDCd3"
   },
   "outputs": [],
   "source": [
    "file = open('drive/My Drive/Auto-Corrector/big.txt').read()"
   ]
  },
  {
   "cell_type": "code",
   "execution_count": null,
   "metadata": {
    "colab": {
     "base_uri": "https://localhost:8080/",
     "height": 136,
     "output_embedded_package_id": "1OhMy4BilcRM_jL0i842RZJITpFju1wSq"
    },
    "executionInfo": {
     "elapsed": 5707,
     "status": "ok",
     "timestamp": 1614185780842,
     "user": {
      "displayName": "aniket poojari",
      "photoUrl": "https://lh3.googleusercontent.com/a-/AOh14Ggq_cw5GlJ_HceHGjFtLxCCLPqiYvg5ffKS76adUw=s64",
      "userId": "09624879631889696305"
     },
     "user_tz": -330
    },
    "id": "FRWLsRKwDcBA",
    "outputId": "910ff01a-1675-4cca-9e68-112792be0219"
   },
   "outputs": [
    {
     "data": {
      "text/plain": [
       "Output hidden; open in https://colab.research.google.com to view."
      ]
     },
     "metadata": {},
     "output_type": "display_data"
    }
   ],
   "source": [
    "file"
   ]
  },
  {
   "cell_type": "markdown",
   "metadata": {
    "id": "-ujoAcMmGrX9"
   },
   "source": [
    "# PREPROCESSING"
   ]
  },
  {
   "cell_type": "code",
   "execution_count": null,
   "metadata": {
    "id": "Df10FiTMCvj8"
   },
   "outputs": [],
   "source": [
    "def words(text): \n",
    "    return re.findall(r'\\w+', text.lower())"
   ]
  },
  {
   "cell_type": "code",
   "execution_count": null,
   "metadata": {
    "id": "yEWbtQGhCSLM"
   },
   "outputs": [],
   "source": [
    "# extracting the words and counting their frequency\n",
    "WORDS = Counter(words(file))"
   ]
  },
  {
   "cell_type": "code",
   "execution_count": null,
   "metadata": {
    "colab": {
     "base_uri": "https://localhost:8080/"
    },
    "executionInfo": {
     "elapsed": 1008,
     "status": "ok",
     "timestamp": 1614185807136,
     "user": {
      "displayName": "aniket poojari",
      "photoUrl": "https://lh3.googleusercontent.com/a-/AOh14Ggq_cw5GlJ_HceHGjFtLxCCLPqiYvg5ffKS76adUw=s64",
      "userId": "09624879631889696305"
     },
     "user_tz": -330
    },
    "id": "SBHASLqgttYp",
    "outputId": "613c6364-3bec-4db5-fe05-5e9fdf0fa344"
   },
   "outputs": [
    {
     "data": {
      "text/plain": [
       "Counter({'the': 79809,\n",
       "         'project': 288,\n",
       "         'gutenberg': 263,\n",
       "         'ebook': 87,\n",
       "         'of': 40024,\n",
       "         'adventures': 17,\n",
       "         'sherlock': 101,\n",
       "         'holmes': 467,\n",
       "         'by': 6735,\n",
       "         'sir': 177,\n",
       "         'arthur': 34,\n",
       "         'conan': 4,\n",
       "         'doyle': 5,\n",
       "         '15': 47,\n",
       "         'in': 22023,\n",
       "         'our': 1065,\n",
       "         'series': 128,\n",
       "         'copyright': 51,\n",
       "         'laws': 233,\n",
       "         'are': 3630,\n",
       "         'changing': 43,\n",
       "         'all': 4143,\n",
       "         'over': 1282,\n",
       "         'world': 362,\n",
       "         'be': 6155,\n",
       "         'sure': 123,\n",
       "         'to': 28765,\n",
       "         'check': 38,\n",
       "         'for': 6941,\n",
       "         'your': 1279,\n",
       "         'country': 423,\n",
       "         'before': 1362,\n",
       "         'downloading': 5,\n",
       "         'or': 5352,\n",
       "         'redistributing': 7,\n",
       "         'this': 4063,\n",
       "         'any': 1203,\n",
       "         'other': 1501,\n",
       "         'header': 7,\n",
       "         'should': 1297,\n",
       "         'first': 1174,\n",
       "         'thing': 303,\n",
       "         'seen': 444,\n",
       "         'when': 2920,\n",
       "         'viewing': 7,\n",
       "         'file': 22,\n",
       "         'please': 172,\n",
       "         'do': 1503,\n",
       "         'not': 6626,\n",
       "         'remove': 53,\n",
       "         'it': 10681,\n",
       "         'change': 150,\n",
       "         'edit': 4,\n",
       "         'without': 1014,\n",
       "         'written': 117,\n",
       "         'permission': 52,\n",
       "         'read': 219,\n",
       "         'legal': 52,\n",
       "         'small': 524,\n",
       "         'print': 37,\n",
       "         'and': 38312,\n",
       "         'information': 73,\n",
       "         'about': 1497,\n",
       "         'at': 6789,\n",
       "         'bottom': 42,\n",
       "         'included': 43,\n",
       "         'is': 9773,\n",
       "         'important': 285,\n",
       "         'specific': 37,\n",
       "         'rights': 166,\n",
       "         'restrictions': 23,\n",
       "         'how': 1315,\n",
       "         'may': 2551,\n",
       "         'used': 276,\n",
       "         'you': 5622,\n",
       "         'can': 1095,\n",
       "         'also': 734,\n",
       "         'find': 294,\n",
       "         'out': 1987,\n",
       "         'make': 504,\n",
       "         'a': 21124,\n",
       "         'donation': 10,\n",
       "         'get': 468,\n",
       "         'involved': 106,\n",
       "         'welcome': 18,\n",
       "         'free': 421,\n",
       "         'plain': 108,\n",
       "         'vanilla': 6,\n",
       "         'electronic': 58,\n",
       "         'texts': 7,\n",
       "         'ebooks': 54,\n",
       "         'readable': 13,\n",
       "         'both': 529,\n",
       "         'humans': 2,\n",
       "         'computers': 7,\n",
       "         'since': 260,\n",
       "         '1971': 4,\n",
       "         'these': 1231,\n",
       "         'were': 4289,\n",
       "         'prepared': 138,\n",
       "         'thousands': 93,\n",
       "         'volunteers': 22,\n",
       "         'title': 39,\n",
       "         'author': 29,\n",
       "         'release': 28,\n",
       "         'date': 48,\n",
       "         'march': 134,\n",
       "         '1999': 3,\n",
       "         '1661': 1,\n",
       "         'most': 908,\n",
       "         'recently': 30,\n",
       "         'updated': 4,\n",
       "         'november': 41,\n",
       "         '29': 24,\n",
       "         '2002': 11,\n",
       "         'edition': 21,\n",
       "         '12': 50,\n",
       "         'language': 61,\n",
       "         'english': 210,\n",
       "         'character': 174,\n",
       "         'set': 325,\n",
       "         'encoding': 5,\n",
       "         'ascii': 11,\n",
       "         'start': 67,\n",
       "         'additional': 30,\n",
       "         'editing': 6,\n",
       "         'jose': 1,\n",
       "         'menendez': 1,\n",
       "         'contents': 50,\n",
       "         'i': 7684,\n",
       "         'scandal': 19,\n",
       "         'bohemia': 15,\n",
       "         'ii': 77,\n",
       "         'red': 287,\n",
       "         'headed': 37,\n",
       "         'league': 53,\n",
       "         'iii': 91,\n",
       "         'case': 438,\n",
       "         'identity': 11,\n",
       "         'iv': 55,\n",
       "         'boscombe': 16,\n",
       "         'valley': 77,\n",
       "         'mystery': 39,\n",
       "         'v': 51,\n",
       "         'five': 279,\n",
       "         'orange': 23,\n",
       "         'pips': 12,\n",
       "         'vi': 37,\n",
       "         'man': 1648,\n",
       "         'with': 9739,\n",
       "         'twisted': 21,\n",
       "         'lip': 56,\n",
       "         'vii': 34,\n",
       "         'adventure': 34,\n",
       "         'blue': 143,\n",
       "         'carbuncle': 16,\n",
       "         'viii': 39,\n",
       "         'speckled': 5,\n",
       "         'band': 54,\n",
       "         'ix': 28,\n",
       "         'engineer': 12,\n",
       "         's': 5626,\n",
       "         'thumb': 51,\n",
       "         'x': 128,\n",
       "         'noble': 48,\n",
       "         'bachelor': 18,\n",
       "         'xi': 28,\n",
       "         'beryl': 4,\n",
       "         'coronet': 29,\n",
       "         'xii': 28,\n",
       "         'copper': 26,\n",
       "         'beeches': 12,\n",
       "         'she': 3946,\n",
       "         'always': 608,\n",
       "         'woman': 323,\n",
       "         'have': 3493,\n",
       "         'seldom': 76,\n",
       "         'heard': 636,\n",
       "         'him': 5230,\n",
       "         'mention': 46,\n",
       "         'her': 5284,\n",
       "         'under': 963,\n",
       "         'name': 262,\n",
       "         'his': 10034,\n",
       "         'eyes': 937,\n",
       "         'eclipses': 2,\n",
       "         'predominates': 3,\n",
       "         'whole': 742,\n",
       "         'sex': 11,\n",
       "         'was': 11410,\n",
       "         'that': 12512,\n",
       "         'he': 12401,\n",
       "         'felt': 697,\n",
       "         'emotion': 36,\n",
       "         'akin': 14,\n",
       "         'love': 484,\n",
       "         'irene': 18,\n",
       "         'adler': 16,\n",
       "         'emotions': 10,\n",
       "         'one': 3371,\n",
       "         'particularly': 174,\n",
       "         'abhorrent': 1,\n",
       "         'cold': 256,\n",
       "         'precise': 13,\n",
       "         'but': 5653,\n",
       "         'admirably': 7,\n",
       "         'balanced': 6,\n",
       "         'mind': 341,\n",
       "         'take': 616,\n",
       "         'perfect': 39,\n",
       "         'reasoning': 41,\n",
       "         'observing': 21,\n",
       "         'machine': 39,\n",
       "         'has': 1603,\n",
       "         'as': 8064,\n",
       "         'lover': 26,\n",
       "         'would': 1953,\n",
       "         'placed': 182,\n",
       "         'himself': 1158,\n",
       "         'false': 63,\n",
       "         'position': 432,\n",
       "         'never': 593,\n",
       "         'spoke': 218,\n",
       "         'softer': 10,\n",
       "         'passions': 29,\n",
       "         'save': 110,\n",
       "         'gibe': 2,\n",
       "         'sneer': 6,\n",
       "         'they': 3938,\n",
       "         'admirable': 14,\n",
       "         'things': 321,\n",
       "         'observer': 13,\n",
       "         'excellent': 62,\n",
       "         'drawing': 240,\n",
       "         'veil': 16,\n",
       "         'from': 5689,\n",
       "         'men': 1145,\n",
       "         'motives': 14,\n",
       "         'actions': 77,\n",
       "         'trained': 23,\n",
       "         'reasoner': 6,\n",
       "         'admit': 65,\n",
       "         'such': 1436,\n",
       "         'intrusions': 1,\n",
       "         'into': 2124,\n",
       "         'own': 785,\n",
       "         'delicate': 54,\n",
       "         'finely': 11,\n",
       "         'adjusted': 16,\n",
       "         'temperament': 5,\n",
       "         'introduce': 23,\n",
       "         'distracting': 1,\n",
       "         'factor': 41,\n",
       "         'which': 4842,\n",
       "         'might': 536,\n",
       "         'throw': 48,\n",
       "         'doubt': 152,\n",
       "         'upon': 1111,\n",
       "         'mental': 37,\n",
       "         'results': 227,\n",
       "         'grit': 1,\n",
       "         'sensitive': 35,\n",
       "         'instrument': 35,\n",
       "         'crack': 20,\n",
       "         'high': 290,\n",
       "         'power': 545,\n",
       "         'lenses': 1,\n",
       "         'more': 1997,\n",
       "         'disturbing': 9,\n",
       "         'than': 1206,\n",
       "         'strong': 168,\n",
       "         'nature': 169,\n",
       "         'yet': 488,\n",
       "         'there': 2972,\n",
       "         'late': 164,\n",
       "         'dubious': 1,\n",
       "         'questionable': 3,\n",
       "         'memory': 55,\n",
       "         'had': 7383,\n",
       "         'little': 1000,\n",
       "         'lately': 22,\n",
       "         'my': 2249,\n",
       "         'marriage': 96,\n",
       "         'drifted': 5,\n",
       "         'us': 684,\n",
       "         'away': 838,\n",
       "         'each': 411,\n",
       "         'complete': 144,\n",
       "         'happiness': 143,\n",
       "         'home': 294,\n",
       "         'centred': 2,\n",
       "         'interests': 118,\n",
       "         'rise': 234,\n",
       "         'up': 2283,\n",
       "         'around': 270,\n",
       "         'who': 3050,\n",
       "         'finds': 23,\n",
       "         'master': 141,\n",
       "         'establishment': 40,\n",
       "         'sufficient': 75,\n",
       "         'absorb': 4,\n",
       "         'attention': 191,\n",
       "         'while': 768,\n",
       "         'loathed': 1,\n",
       "         'every': 650,\n",
       "         'form': 506,\n",
       "         'society': 169,\n",
       "         'bohemian': 8,\n",
       "         'soul': 168,\n",
       "         'remained': 231,\n",
       "         'lodgings': 11,\n",
       "         'baker': 49,\n",
       "         'street': 180,\n",
       "         'buried': 20,\n",
       "         'among': 451,\n",
       "         'old': 1178,\n",
       "         'books': 59,\n",
       "         'alternating': 2,\n",
       "         'week': 95,\n",
       "         'between': 648,\n",
       "         'cocaine': 4,\n",
       "         'ambition': 13,\n",
       "         'drowsiness': 4,\n",
       "         'drug': 21,\n",
       "         'fierce': 12,\n",
       "         'energy': 45,\n",
       "         'keen': 32,\n",
       "         'still': 922,\n",
       "         'ever': 274,\n",
       "         'deeply': 77,\n",
       "         'attracted': 36,\n",
       "         'study': 144,\n",
       "         'crime': 61,\n",
       "         'occupied': 116,\n",
       "         'immense': 77,\n",
       "         'faculties': 8,\n",
       "         'extraordinary': 74,\n",
       "         'powers': 149,\n",
       "         'observation': 39,\n",
       "         'following': 207,\n",
       "         'those': 1201,\n",
       "         'clues': 3,\n",
       "         'clearing': 29,\n",
       "         'mysteries': 9,\n",
       "         'been': 2599,\n",
       "         'abandoned': 72,\n",
       "         'hopeless': 17,\n",
       "         'official': 91,\n",
       "         'police': 94,\n",
       "         'time': 1524,\n",
       "         'some': 1536,\n",
       "         'vague': 39,\n",
       "         'account': 177,\n",
       "         'doings': 11,\n",
       "         'summons': 11,\n",
       "         'odessa': 3,\n",
       "         'trepoff': 1,\n",
       "         'murder': 30,\n",
       "         'singular': 36,\n",
       "         'tragedy': 9,\n",
       "         'atkinson': 1,\n",
       "         'brothers': 50,\n",
       "         'trincomalee': 1,\n",
       "         'finally': 156,\n",
       "         'mission': 34,\n",
       "         'accomplished': 39,\n",
       "         'so': 3017,\n",
       "         'delicately': 3,\n",
       "         'successfully': 25,\n",
       "         'reigning': 3,\n",
       "         'family': 210,\n",
       "         'holland': 12,\n",
       "         'beyond': 225,\n",
       "         'signs': 98,\n",
       "         'activity': 131,\n",
       "         'however': 430,\n",
       "         'merely': 189,\n",
       "         'shared': 25,\n",
       "         'readers': 11,\n",
       "         'daily': 44,\n",
       "         'press': 79,\n",
       "         'knew': 496,\n",
       "         'former': 177,\n",
       "         'friend': 283,\n",
       "         'companion': 81,\n",
       "         'night': 384,\n",
       "         'on': 6639,\n",
       "         'twentieth': 19,\n",
       "         '1888': 8,\n",
       "         'returning': 68,\n",
       "         'journey': 69,\n",
       "         'patient': 382,\n",
       "         'now': 1697,\n",
       "         'returned': 194,\n",
       "         'civil': 177,\n",
       "         'practice': 95,\n",
       "         'way': 859,\n",
       "         'led': 196,\n",
       "         'me': 1920,\n",
       "         'through': 814,\n",
       "         'passed': 367,\n",
       "         'well': 1198,\n",
       "         'remembered': 120,\n",
       "         'door': 498,\n",
       "         'must': 955,\n",
       "         'associated': 196,\n",
       "         'wooing': 2,\n",
       "         'dark': 181,\n",
       "         'incidents': 14,\n",
       "         'scarlet': 22,\n",
       "         'seized': 114,\n",
       "         'desire': 96,\n",
       "         'see': 1012,\n",
       "         'again': 866,\n",
       "         'know': 1048,\n",
       "         'employing': 7,\n",
       "         'rooms': 86,\n",
       "         'brilliantly': 5,\n",
       "         'lit': 74,\n",
       "         'even': 946,\n",
       "         'looked': 760,\n",
       "         'saw': 599,\n",
       "         'tall': 74,\n",
       "         'spare': 27,\n",
       "         'figure': 103,\n",
       "         'pass': 154,\n",
       "         'twice': 84,\n",
       "         'silhouette': 1,\n",
       "         'against': 660,\n",
       "         'blind': 23,\n",
       "         'pacing': 26,\n",
       "         'room': 960,\n",
       "         'swiftly': 38,\n",
       "         'eagerly': 39,\n",
       "         'head': 725,\n",
       "         'sunk': 27,\n",
       "         'chest': 81,\n",
       "         'hands': 454,\n",
       "         'clasped': 11,\n",
       "         'behind': 401,\n",
       "         'mood': 51,\n",
       "         'habit': 55,\n",
       "         'attitude': 72,\n",
       "         'manner': 135,\n",
       "         'told': 490,\n",
       "         'their': 2955,\n",
       "         'story': 133,\n",
       "         'work': 382,\n",
       "         'risen': 30,\n",
       "         'created': 62,\n",
       "         'dreams': 16,\n",
       "         'hot': 118,\n",
       "         'scent': 17,\n",
       "         'new': 1208,\n",
       "         'problem': 71,\n",
       "         'rang': 29,\n",
       "         'bell': 65,\n",
       "         'shown': 113,\n",
       "         'chamber': 35,\n",
       "         'formerly': 77,\n",
       "         'part': 703,\n",
       "         'effusive': 2,\n",
       "         'glad': 150,\n",
       "         'think': 557,\n",
       "         'hardly': 173,\n",
       "         'word': 298,\n",
       "         'spoken': 92,\n",
       "         'kindly': 86,\n",
       "         'eye': 110,\n",
       "         'waved': 29,\n",
       "         'an': 3421,\n",
       "         'armchair': 49,\n",
       "         'threw': 96,\n",
       "         'across': 220,\n",
       "         'cigars': 7,\n",
       "         'indicated': 88,\n",
       "         'spirit': 167,\n",
       "         'gasogene': 1,\n",
       "         'corner': 128,\n",
       "         'then': 1558,\n",
       "         'stood': 383,\n",
       "         'fire': 274,\n",
       "         'introspective': 3,\n",
       "         'fashion': 49,\n",
       "         'wedlock': 1,\n",
       "         'suits': 8,\n",
       "         'remarked': 169,\n",
       "         'watson': 83,\n",
       "         'put': 435,\n",
       "         'seven': 132,\n",
       "         'half': 318,\n",
       "         'pounds': 26,\n",
       "         'answered': 226,\n",
       "         'indeed': 139,\n",
       "         'thought': 902,\n",
       "         'just': 767,\n",
       "         'trifle': 11,\n",
       "         'fancy': 50,\n",
       "         'observe': 37,\n",
       "         'did': 1875,\n",
       "         'tell': 492,\n",
       "         'intended': 58,\n",
       "         'go': 905,\n",
       "         'harness': 27,\n",
       "         'deduce': 14,\n",
       "         'getting': 92,\n",
       "         'yourself': 162,\n",
       "         'very': 1340,\n",
       "         'wet': 59,\n",
       "         'clumsy': 8,\n",
       "         'careless': 14,\n",
       "         'servant': 46,\n",
       "         'girl': 166,\n",
       "         'dear': 449,\n",
       "         'said': 3464,\n",
       "         'too': 548,\n",
       "         'much': 671,\n",
       "         'certainly': 119,\n",
       "         'burned': 77,\n",
       "         'lived': 113,\n",
       "         'few': 458,\n",
       "         'centuries': 12,\n",
       "         'ago': 108,\n",
       "         'true': 204,\n",
       "         'walk': 75,\n",
       "         'thursday': 7,\n",
       "         'came': 979,\n",
       "         'dreadful': 68,\n",
       "         'mess': 10,\n",
       "         'changed': 134,\n",
       "         'clothes': 62,\n",
       "         't': 1318,\n",
       "         'imagine': 96,\n",
       "         'mary': 705,\n",
       "         'jane': 2,\n",
       "         'incorrigible': 2,\n",
       "         'wife': 367,\n",
       "         'given': 364,\n",
       "         'notice': 98,\n",
       "         'fail': 40,\n",
       "         'chuckled': 7,\n",
       "         'rubbed': 32,\n",
       "         'long': 990,\n",
       "         'nervous': 53,\n",
       "         'together': 260,\n",
       "         'simplicity': 30,\n",
       "         'itself': 273,\n",
       "         'inside': 43,\n",
       "         'left': 834,\n",
       "         'shoe': 11,\n",
       "         'where': 977,\n",
       "         'firelight': 2,\n",
       "         'strikes': 19,\n",
       "         'leather': 35,\n",
       "         'scored': 4,\n",
       "         'six': 176,\n",
       "         'almost': 325,\n",
       "         'parallel': 17,\n",
       "         'cuts': 5,\n",
       "         'obviously': 38,\n",
       "         'caused': 102,\n",
       "         'someone': 160,\n",
       "         'carelessly': 14,\n",
       "         'scraped': 21,\n",
       "         'round': 556,\n",
       "         'edges': 69,\n",
       "         'sole': 69,\n",
       "         'order': 404,\n",
       "         'crusted': 2,\n",
       "         'mud': 36,\n",
       "         'hence': 32,\n",
       "         'double': 48,\n",
       "         'deduction': 12,\n",
       "         'vile': 16,\n",
       "         'weather': 42,\n",
       "         'malignant': 80,\n",
       "         'boot': 22,\n",
       "         'slitting': 2,\n",
       "         'specimen': 14,\n",
       "         'london': 76,\n",
       "         'slavey': 1,\n",
       "         'if': 2371,\n",
       "         'gentleman': 99,\n",
       "         'walks': 10,\n",
       "         'smelling': 5,\n",
       "         'iodoform': 42,\n",
       "         'black': 235,\n",
       "         'mark': 38,\n",
       "         'nitrate': 7,\n",
       "         'silver': 128,\n",
       "         'right': 710,\n",
       "         'forefinger': 7,\n",
       "         'bulge': 2,\n",
       "         'side': 511,\n",
       "         'top': 42,\n",
       "         'hat': 105,\n",
       "         'show': 213,\n",
       "         'secreted': 2,\n",
       "         'stethoscope': 2,\n",
       "         'dull': 73,\n",
       "         'pronounce': 9,\n",
       "         'active': 93,\n",
       "         'member': 50,\n",
       "         'medical': 22,\n",
       "         'profession': 22,\n",
       "         'could': 1700,\n",
       "         'help': 230,\n",
       "         'laughing': 115,\n",
       "         'ease': 44,\n",
       "         'explained': 60,\n",
       "         'process': 218,\n",
       "         'hear': 183,\n",
       "         'give': 523,\n",
       "         'reasons': 64,\n",
       "         'appears': 108,\n",
       "         'ridiculously': 1,\n",
       "         'simple': 138,\n",
       "         'easily': 114,\n",
       "         'myself': 227,\n",
       "         'though': 650,\n",
       "         'successive': 17,\n",
       "         'instance': 50,\n",
       "         'am': 746,\n",
       "         'baffled': 8,\n",
       "         'until': 325,\n",
       "         'explain': 123,\n",
       "         'believe': 183,\n",
       "         'good': 744,\n",
       "         'yours': 46,\n",
       "         'quite': 502,\n",
       "         'lighting': 16,\n",
       "         'cigarette': 6,\n",
       "         'throwing': 46,\n",
       "         'down': 1128,\n",
       "         'distinction': 19,\n",
       "         'clear': 233,\n",
       "         'example': 286,\n",
       "         'frequently': 218,\n",
       "         'steps': 188,\n",
       "         'lead': 137,\n",
       "         'hall': 83,\n",
       "         'often': 443,\n",
       "         'hundreds': 48,\n",
       "         'times': 232,\n",
       "         'many': 609,\n",
       "         'don': 581,\n",
       "         'observed': 131,\n",
       "         'point': 223,\n",
       "         'seventeen': 10,\n",
       "         'because': 630,\n",
       "         'interested': 65,\n",
       "         'problems': 70,\n",
       "         'enough': 175,\n",
       "         'chronicle': 7,\n",
       "         'two': 1137,\n",
       "         'trifling': 12,\n",
       "         'experiences': 11,\n",
       "         'sheet': 29,\n",
       "         'thick': 77,\n",
       "         'pink': 27,\n",
       "         'tinted': 9,\n",
       "         'notepaper': 2,\n",
       "         'lying': 118,\n",
       "         'open': 322,\n",
       "         'table': 296,\n",
       "         'last': 565,\n",
       "         'post': 114,\n",
       "         'aloud': 28,\n",
       "         'note': 115,\n",
       "         'undated': 1,\n",
       "         'either': 293,\n",
       "         'signature': 9,\n",
       "         'address': 76,\n",
       "         'will': 1577,\n",
       "         'call': 197,\n",
       "         'quarter': 46,\n",
       "         'eight': 128,\n",
       "         'o': 257,\n",
       "         'clock': 120,\n",
       "         'desires': 22,\n",
       "         'consult': 19,\n",
       "         'matter': 365,\n",
       "         'deepest': 15,\n",
       "         'moment': 487,\n",
       "         'recent': 53,\n",
       "         'services': 38,\n",
       "         'royal': 111,\n",
       "         'houses': 117,\n",
       "         'europe': 152,\n",
       "         'safely': 11,\n",
       "         'trusted': 16,\n",
       "         'matters': 136,\n",
       "         'importance': 117,\n",
       "         'exaggerated': 26,\n",
       "         'we': 1906,\n",
       "         'quarters': 72,\n",
       "         'received': 280,\n",
       "         'hour': 157,\n",
       "         'amiss': 6,\n",
       "         'visitor': 74,\n",
       "         'wear': 30,\n",
       "         'mask': 12,\n",
       "         'what': 3011,\n",
       "         'means': 253,\n",
       "         'no': 2348,\n",
       "         'data': 17,\n",
       "         'capital': 144,\n",
       "         'mistake': 39,\n",
       "         'theorise': 1,\n",
       "         'insensibly': 2,\n",
       "         'begins': 47,\n",
       "         'twist': 14,\n",
       "         'facts': 72,\n",
       "         'suit': 25,\n",
       "         'theories': 21,\n",
       "         'instead': 137,\n",
       "         'carefully': 72,\n",
       "         'examined': 49,\n",
       "         'writing': 69,\n",
       "         'paper': 177,\n",
       "         'wrote': 149,\n",
       "         'presumably': 8,\n",
       "         'endeavouring': 8,\n",
       "         'imitate': 7,\n",
       "         'processes': 35,\n",
       "         'bought': 55,\n",
       "         'crown': 61,\n",
       "         'packet': 11,\n",
       "         'peculiarly': 14,\n",
       "         'stiff': 20,\n",
       "         'peculiar': 84,\n",
       "         'hold': 114,\n",
       "         'light': 277,\n",
       "         'large': 481,\n",
       "         'e': 115,\n",
       "         'g': 50,\n",
       "         'p': 66,\n",
       "         'woven': 5,\n",
       "         'texture': 6,\n",
       "         'asked': 777,\n",
       "         'maker': 4,\n",
       "         'monogram': 4,\n",
       "         'rather': 219,\n",
       "         'stands': 19,\n",
       "         'gesellschaft': 1,\n",
       "         'german': 196,\n",
       "         'company': 190,\n",
       "         'customary': 19,\n",
       "         'contraction': 60,\n",
       "         'like': 1080,\n",
       "         'co': 29,\n",
       "         'course': 389,\n",
       "         'papier': 1,\n",
       "         'eg': 1,\n",
       "         'let': 506,\n",
       "         'glance': 91,\n",
       "         'continental': 46,\n",
       "         'gazetteer': 1,\n",
       "         'took': 573,\n",
       "         'heavy': 139,\n",
       "         'brown': 71,\n",
       "         'volume': 30,\n",
       "         'shelves': 3,\n",
       "         'eglow': 1,\n",
       "         'eglonitz': 1,\n",
       "         'here': 691,\n",
       "         'egria': 1,\n",
       "         'speaking': 185,\n",
       "         'far': 408,\n",
       "         'carlsbad': 1,\n",
       "         'remarkable': 77,\n",
       "         'being': 918,\n",
       "         'scene': 49,\n",
       "         'death': 329,\n",
       "         'wallenstein': 1,\n",
       "         'its': 1635,\n",
       "         'numerous': 50,\n",
       "         'glass': 115,\n",
       "         'factories': 29,\n",
       "         'mills': 39,\n",
       "         'ha': 75,\n",
       "         'boy': 169,\n",
       "         'sparkled': 5,\n",
       "         'sent': 319,\n",
       "         'great': 790,\n",
       "         'triumphant': 16,\n",
       "         'cloud': 30,\n",
       "         'made': 1007,\n",
       "         'precisely': 24,\n",
       "         'construction': 25,\n",
       "         'sentence': 26,\n",
       "         'frenchman': 102,\n",
       "         'russian': 461,\n",
       "         'uncourteous': 1,\n",
       "         'verbs': 1,\n",
       "         'only': 1873,\n",
       "         'remains': 73,\n",
       "         'therefore': 186,\n",
       "         'discover': 28,\n",
       "         'wanted': 213,\n",
       "         'writes': 20,\n",
       "         'prefers': 2,\n",
       "         'wearing': 87,\n",
       "         'showing': 104,\n",
       "         'face': 1125,\n",
       "         'comes': 91,\n",
       "         'mistaken': 59,\n",
       "         'resolve': 14,\n",
       "         'doubts': 39,\n",
       "         'sharp': 83,\n",
       "         'sound': 219,\n",
       "         'horses': 262,\n",
       "         'hoofs': 24,\n",
       "         'grating': 10,\n",
       "         'wheels': 47,\n",
       "         'curb': 4,\n",
       "         'followed': 329,\n",
       "         'pull': 23,\n",
       "         'whistled': 13,\n",
       "         'pair': 40,\n",
       "         'yes': 688,\n",
       "         'continued': 291,\n",
       "         'glancing': 98,\n",
       "         'window': 186,\n",
       "         'nice': 53,\n",
       "         'brougham': 4,\n",
       "         'beauties': 2,\n",
       "         'hundred': 229,\n",
       "         'fifty': 94,\n",
       "         'guineas': 3,\n",
       "         'apiece': 7,\n",
       "         'money': 326,\n",
       "         'nothing': 646,\n",
       "         'else': 201,\n",
       "         'better': 266,\n",
       "         'bit': 63,\n",
       "         'doctor': 183,\n",
       "         'stay': 74,\n",
       "         'lost': 224,\n",
       "         'boswell': 1,\n",
       "         'promises': 15,\n",
       "         'interesting': 71,\n",
       "         'pity': 75,\n",
       "         'miss': 112,\n",
       "         'client': 33,\n",
       "         'want': 323,\n",
       "         'sit': 89,\n",
       "         'best': 268,\n",
       "         'slow': 65,\n",
       "         'step': 139,\n",
       "         'stairs': 31,\n",
       "         'passage': 110,\n",
       "         'paused': 79,\n",
       "         'immediately': 182,\n",
       "         'outside': 110,\n",
       "         'loud': 64,\n",
       "         'authoritative': 2,\n",
       "         'tap': 10,\n",
       "         'come': 934,\n",
       "         'entered': 282,\n",
       "         'less': 367,\n",
       "         'feet': 178,\n",
       "         'inches': 16,\n",
       "         'height': 36,\n",
       "         'limbs': 64,\n",
       "         'hercules': 4,\n",
       "         'dress': 138,\n",
       "         'rich': 92,\n",
       "         'richness': 2,\n",
       "         'england': 304,\n",
       "         'bad': 155,\n",
       "         'taste': 23,\n",
       "         'bands': 27,\n",
       "         'astrakhan': 1,\n",
       "         'slashed': 3,\n",
       "         'sleeves': 30,\n",
       "         'fronts': 1,\n",
       "         'breasted': 1,\n",
       "         'coat': 172,\n",
       "         'deep': 214,\n",
       "         'cloak': 62,\n",
       "         'thrown': 92,\n",
       "         'shoulders': 125,\n",
       "         'lined': 32,\n",
       "         'flame': 15,\n",
       "         'coloured': 21,\n",
       "         'silk': 49,\n",
       "         'secured': 48,\n",
       "         'neck': 201,\n",
       "         'brooch': 1,\n",
       "         'consisted': 38,\n",
       "         'single': 173,\n",
       "         'flaming': 8,\n",
       "         'boots': 91,\n",
       "         'extended': 75,\n",
       "         'halfway': 19,\n",
       "         'calves': 3,\n",
       "         'trimmed': 8,\n",
       "         'tops': 3,\n",
       "         'fur': 38,\n",
       "         'completed': 25,\n",
       "         'impression': 67,\n",
       "         'barbaric': 2,\n",
       "         'opulence': 3,\n",
       "         'suggested': 69,\n",
       "         'appearance': 135,\n",
       "         'carried': 282,\n",
       "         'broad': 92,\n",
       "         'brimmed': 4,\n",
       "         'hand': 834,\n",
       "         'wore': 58,\n",
       "         'upper': 129,\n",
       "         'extending': 35,\n",
       "         'past': 223,\n",
       "         'cheekbones': 4,\n",
       "         'vizard': 1,\n",
       "         'apparently': 68,\n",
       "         'raised': 212,\n",
       "         'lower': 195,\n",
       "         'appeared': 197,\n",
       "         'hanging': 42,\n",
       "         'straight': 124,\n",
       "         'chin': 30,\n",
       "         'suggestive': 11,\n",
       "         'resolution': 56,\n",
       "         'pushed': 81,\n",
       "         'length': 63,\n",
       "         'obstinacy': 7,\n",
       "         'harsh': 22,\n",
       "         'voice': 462,\n",
       "         'strongly': 41,\n",
       "         'marked': 138,\n",
       "         'accent': 18,\n",
       "         'uncertain': 30,\n",
       "         'pray': 79,\n",
       "         'seat': 170,\n",
       "         'colleague': 7,\n",
       "         'dr': 48,\n",
       "         'occasionally': 89,\n",
       "         'cases': 452,\n",
       "         'whom': 489,\n",
       "         'honour': 16,\n",
       "         'count': 748,\n",
       "         'von': 11,\n",
       "         'kramm': 2,\n",
       "         'nobleman': 11,\n",
       "         'understand': 412,\n",
       "         'discretion': 13,\n",
       "         'trust': 68,\n",
       "         'extreme': 72,\n",
       "         'prefer': 21,\n",
       "         'communicate': 15,\n",
       "         'alone': 337,\n",
       "         'rose': 243,\n",
       "         'caught': 90,\n",
       "         'wrist': 66,\n",
       "         'back': 746,\n",
       "         'chair': 135,\n",
       "         'none': 110,\n",
       "         'say': 755,\n",
       "         'anything': 379,\n",
       "         'shrugged': 35,\n",
       "         'begin': 97,\n",
       "         'binding': 18,\n",
       "         'absolute': 56,\n",
       "         'secrecy': 18,\n",
       "         'years': 571,\n",
       "         'end': 463,\n",
       "         'present': 328,\n",
       "         'weight': 70,\n",
       "         'influence': 137,\n",
       "         'european': 99,\n",
       "         'history': 348,\n",
       "         'promise': 67,\n",
       "         'excuse': 53,\n",
       "         'strange': 220,\n",
       "         'august': 70,\n",
       "         'person': 185,\n",
       "         'employs': 2,\n",
       "         'wishes': 42,\n",
       "         'agent': 25,\n",
       "         'unknown': 87,\n",
       "         'confess': 36,\n",
       "         'once': 569,\n",
       "         'called': 450,\n",
       "         'exactly': 47,\n",
       "         'aware': 52,\n",
       "         'dryly': 5,\n",
       "         'circumstances': 107,\n",
       "         'delicacy': 11,\n",
       "         'precaution': 9,\n",
       "         'taken': 438,\n",
       "         'quench': 3,\n",
       "         'grow': 74,\n",
       "         'seriously': 63,\n",
       "         'compromise': 71,\n",
       "         'families': 45,\n",
       "         'speak': 255,\n",
       "         'plainly': 39,\n",
       "         'implicates': 5,\n",
       "         ...})"
      ]
     },
     "execution_count": 48,
     "metadata": {
      "tags": []
     },
     "output_type": "execute_result"
    }
   ],
   "source": [
    "# words and their respective frequencies\n",
    "WORDS"
   ]
  },
  {
   "cell_type": "code",
   "execution_count": null,
   "metadata": {
    "colab": {
     "base_uri": "https://localhost:8080/"
    },
    "executionInfo": {
     "elapsed": 969,
     "status": "ok",
     "timestamp": 1614185812852,
     "user": {
      "displayName": "aniket poojari",
      "photoUrl": "https://lh3.googleusercontent.com/a-/AOh14Ggq_cw5GlJ_HceHGjFtLxCCLPqiYvg5ffKS76adUw=s64",
      "userId": "09624879631889696305"
     },
     "user_tz": -330
    },
    "id": "WFBZ-3WLCzou",
    "outputId": "8daf5511-a662-4c40-ed40-cf082f5ec7e7"
   },
   "outputs": [
    {
     "data": {
      "text/plain": [
       "32198"
      ]
     },
     "execution_count": 49,
     "metadata": {
      "tags": []
     },
     "output_type": "execute_result"
    }
   ],
   "source": [
    "# vocabulary size\n",
    "len(WORDS)"
   ]
  },
  {
   "cell_type": "markdown",
   "metadata": {
    "id": "oHCUQoMnubpa"
   },
   "source": [
    "# GENERATING CANDIDATE WORDS"
   ]
  },
  {
   "cell_type": "code",
   "execution_count": null,
   "metadata": {
    "id": "VuzyXTS5yos4"
   },
   "outputs": [],
   "source": [
    "letters =[l for l in 'abcdefghijklmnopqrstuvwxyz']"
   ]
  },
  {
   "cell_type": "code",
   "execution_count": null,
   "metadata": {
    "id": "yRqjSsPnw_C5"
   },
   "outputs": [],
   "source": [
    "# defining a function to generate all the candidates that are 1 edit distance from the original word\n",
    "def edits1(word):\n",
    "    # splitting the word into sub-words\n",
    "    splits = [(word[:i], word[i:]) for i in range(len(word) + 1)]\n",
    "    insertion    = [sw1 + c + sw2 for sw1, sw2 in splits for c in letters]\n",
    "    deletion     = [sw1 + sw2[1:] for sw1, sw2 in splits if sw2]\n",
    "    substitution = [sw1 + c + sw2[1:] for sw1, sw2 in splits if sw2 for c in letters]\n",
    "    transpose    = [sw1 + sw2[1] + sw2[0] + sw2[2:] for sw1, sw2 in splits if len(sw2)>1]\n",
    "    return set(deletion + insertion + substitution + transpose)"
   ]
  },
  {
   "cell_type": "code",
   "execution_count": null,
   "metadata": {
    "colab": {
     "base_uri": "https://localhost:8080/"
    },
    "executionInfo": {
     "elapsed": 1061,
     "status": "ok",
     "timestamp": 1614185845876,
     "user": {
      "displayName": "aniket poojari",
      "photoUrl": "https://lh3.googleusercontent.com/a-/AOh14Ggq_cw5GlJ_HceHGjFtLxCCLPqiYvg5ffKS76adUw=s64",
      "userId": "09624879631889696305"
     },
     "user_tz": -330
    },
    "id": "IHbK0Kdsw--P",
    "outputId": "e148de1b-7cfd-4efe-b2dc-aa1c91ff7758"
   },
   "outputs": [
    {
     "data": {
      "text/plain": [
       "{'ahe',\n",
       " 'athe',\n",
       " 'bhe',\n",
       " 'bthe',\n",
       " 'che',\n",
       " 'cthe',\n",
       " 'dhe',\n",
       " 'dthe',\n",
       " 'ehe',\n",
       " 'ethe',\n",
       " 'fhe',\n",
       " 'fthe',\n",
       " 'ghe',\n",
       " 'gthe',\n",
       " 'he',\n",
       " 'hhe',\n",
       " 'hte',\n",
       " 'hthe',\n",
       " 'ihe',\n",
       " 'ithe',\n",
       " 'jhe',\n",
       " 'jthe',\n",
       " 'khe',\n",
       " 'kthe',\n",
       " 'lhe',\n",
       " 'lthe',\n",
       " 'mhe',\n",
       " 'mthe',\n",
       " 'nhe',\n",
       " 'nthe',\n",
       " 'ohe',\n",
       " 'othe',\n",
       " 'phe',\n",
       " 'pthe',\n",
       " 'qhe',\n",
       " 'qthe',\n",
       " 'rhe',\n",
       " 'rthe',\n",
       " 'she',\n",
       " 'sthe',\n",
       " 'tae',\n",
       " 'tahe',\n",
       " 'tbe',\n",
       " 'tbhe',\n",
       " 'tce',\n",
       " 'tche',\n",
       " 'tde',\n",
       " 'tdhe',\n",
       " 'te',\n",
       " 'tee',\n",
       " 'teh',\n",
       " 'tehe',\n",
       " 'tfe',\n",
       " 'tfhe',\n",
       " 'tge',\n",
       " 'tghe',\n",
       " 'th',\n",
       " 'tha',\n",
       " 'thae',\n",
       " 'thb',\n",
       " 'thbe',\n",
       " 'thc',\n",
       " 'thce',\n",
       " 'thd',\n",
       " 'thde',\n",
       " 'the',\n",
       " 'thea',\n",
       " 'theb',\n",
       " 'thec',\n",
       " 'thed',\n",
       " 'thee',\n",
       " 'thef',\n",
       " 'theg',\n",
       " 'theh',\n",
       " 'thei',\n",
       " 'thej',\n",
       " 'thek',\n",
       " 'thel',\n",
       " 'them',\n",
       " 'then',\n",
       " 'theo',\n",
       " 'thep',\n",
       " 'theq',\n",
       " 'ther',\n",
       " 'thes',\n",
       " 'thet',\n",
       " 'theu',\n",
       " 'thev',\n",
       " 'thew',\n",
       " 'thex',\n",
       " 'they',\n",
       " 'thez',\n",
       " 'thf',\n",
       " 'thfe',\n",
       " 'thg',\n",
       " 'thge',\n",
       " 'thh',\n",
       " 'thhe',\n",
       " 'thi',\n",
       " 'thie',\n",
       " 'thj',\n",
       " 'thje',\n",
       " 'thk',\n",
       " 'thke',\n",
       " 'thl',\n",
       " 'thle',\n",
       " 'thm',\n",
       " 'thme',\n",
       " 'thn',\n",
       " 'thne',\n",
       " 'tho',\n",
       " 'thoe',\n",
       " 'thp',\n",
       " 'thpe',\n",
       " 'thq',\n",
       " 'thqe',\n",
       " 'thr',\n",
       " 'thre',\n",
       " 'ths',\n",
       " 'thse',\n",
       " 'tht',\n",
       " 'thte',\n",
       " 'thu',\n",
       " 'thue',\n",
       " 'thv',\n",
       " 'thve',\n",
       " 'thw',\n",
       " 'thwe',\n",
       " 'thx',\n",
       " 'thxe',\n",
       " 'thy',\n",
       " 'thye',\n",
       " 'thz',\n",
       " 'thze',\n",
       " 'tie',\n",
       " 'tihe',\n",
       " 'tje',\n",
       " 'tjhe',\n",
       " 'tke',\n",
       " 'tkhe',\n",
       " 'tle',\n",
       " 'tlhe',\n",
       " 'tme',\n",
       " 'tmhe',\n",
       " 'tne',\n",
       " 'tnhe',\n",
       " 'toe',\n",
       " 'tohe',\n",
       " 'tpe',\n",
       " 'tphe',\n",
       " 'tqe',\n",
       " 'tqhe',\n",
       " 'tre',\n",
       " 'trhe',\n",
       " 'tse',\n",
       " 'tshe',\n",
       " 'tte',\n",
       " 'tthe',\n",
       " 'tue',\n",
       " 'tuhe',\n",
       " 'tve',\n",
       " 'tvhe',\n",
       " 'twe',\n",
       " 'twhe',\n",
       " 'txe',\n",
       " 'txhe',\n",
       " 'tye',\n",
       " 'tyhe',\n",
       " 'tze',\n",
       " 'tzhe',\n",
       " 'uhe',\n",
       " 'uthe',\n",
       " 'vhe',\n",
       " 'vthe',\n",
       " 'whe',\n",
       " 'wthe',\n",
       " 'xhe',\n",
       " 'xthe',\n",
       " 'yhe',\n",
       " 'ythe',\n",
       " 'zhe',\n",
       " 'zthe'}"
      ]
     },
     "execution_count": 52,
     "metadata": {
      "tags": []
     },
     "output_type": "execute_result"
    }
   ],
   "source": [
    "edits1('the')"
   ]
  },
  {
   "cell_type": "code",
   "execution_count": null,
   "metadata": {
    "colab": {
     "base_uri": "https://localhost:8080/"
    },
    "executionInfo": {
     "elapsed": 1214,
     "status": "ok",
     "timestamp": 1614185852409,
     "user": {
      "displayName": "aniket poojari",
      "photoUrl": "https://lh3.googleusercontent.com/a-/AOh14Ggq_cw5GlJ_HceHGjFtLxCCLPqiYvg5ffKS76adUw=s64",
      "userId": "09624879631889696305"
     },
     "user_tz": -330
    },
    "id": "TmurDeJ6w-78",
    "outputId": "e8a84b89-6707-429f-dbb9-b86de4289cd2"
   },
   "outputs": [
    {
     "data": {
      "text/plain": [
       "182"
      ]
     },
     "execution_count": 53,
     "metadata": {
      "tags": []
     },
     "output_type": "execute_result"
    }
   ],
   "source": [
    "# number of generated candidates for a sample word\n",
    "len(edits1('the'))"
   ]
  },
  {
   "cell_type": "code",
   "execution_count": null,
   "metadata": {
    "id": "Z-xSTxg2w-3a"
   },
   "outputs": [],
   "source": [
    "# function to keep only those candidates which are present in the vocabulary\n",
    "def known(words):\n",
    "    return set(w for w in words if w in WORDS)"
   ]
  },
  {
   "cell_type": "code",
   "execution_count": null,
   "metadata": {
    "colab": {
     "base_uri": "https://localhost:8080/"
    },
    "executionInfo": {
     "elapsed": 1012,
     "status": "ok",
     "timestamp": 1614185894132,
     "user": {
      "displayName": "aniket poojari",
      "photoUrl": "https://lh3.googleusercontent.com/a-/AOh14Ggq_cw5GlJ_HceHGjFtLxCCLPqiYvg5ffKS76adUw=s64",
      "userId": "09624879631889696305"
     },
     "user_tz": -330
    },
    "id": "mtm5sVc4ytzR",
    "outputId": "bf247d67-50a6-4036-b860-0742d6cb20a6"
   },
   "outputs": [
    {
     "data": {
      "text/plain": [
       "{'he',\n",
       " 'she',\n",
       " 'te',\n",
       " 'th',\n",
       " 'the',\n",
       " 'thee',\n",
       " 'them',\n",
       " 'then',\n",
       " 'they',\n",
       " 'thy',\n",
       " 'tie',\n",
       " 'toe'}"
      ]
     },
     "execution_count": 55,
     "metadata": {
      "tags": []
     },
     "output_type": "execute_result"
    }
   ],
   "source": [
    "# generating known candidates for a sample word\n",
    "known(edits1('the'))"
   ]
  },
  {
   "cell_type": "markdown",
   "metadata": {
    "id": "CJ2YCBL_t9Gl"
   },
   "source": [
    "# MODEL"
   ]
  },
  {
   "cell_type": "code",
   "execution_count": null,
   "metadata": {
    "colab": {
     "base_uri": "https://localhost:8080/"
    },
    "executionInfo": {
     "elapsed": 950,
     "status": "ok",
     "timestamp": 1614185911369,
     "user": {
      "displayName": "aniket poojari",
      "photoUrl": "https://lh3.googleusercontent.com/a-/AOh14Ggq_cw5GlJ_HceHGjFtLxCCLPqiYvg5ffKS76adUw=s64",
      "userId": "09624879631889696305"
     },
     "user_tz": -330
    },
    "id": "SdJyyMkqypd5",
    "outputId": "d96f4fe9-9eab-4426-d4e3-4c89572bc5d4"
   },
   "outputs": [
    {
     "data": {
      "text/plain": [
       "1115585"
      ]
     },
     "execution_count": 56,
     "metadata": {
      "tags": []
     },
     "output_type": "execute_result"
    }
   ],
   "source": [
    "# total number of words in the file\n",
    "sum(WORDS.values())"
   ]
  },
  {
   "cell_type": "code",
   "execution_count": null,
   "metadata": {
    "id": "51Tfn4F-t6RM"
   },
   "outputs": [],
   "source": [
    "# defining a function to return the probability of a word\n",
    "def P(word, N = sum(WORDS.values())): \n",
    "    return WORDS[word] / N"
   ]
  },
  {
   "cell_type": "code",
   "execution_count": null,
   "metadata": {
    "colab": {
     "base_uri": "https://localhost:8080/"
    },
    "executionInfo": {
     "elapsed": 947,
     "status": "ok",
     "timestamp": 1614185948427,
     "user": {
      "displayName": "aniket poojari",
      "photoUrl": "https://lh3.googleusercontent.com/a-/AOh14Ggq_cw5GlJ_HceHGjFtLxCCLPqiYvg5ffKS76adUw=s64",
      "userId": "09624879631889696305"
     },
     "user_tz": -330
    },
    "id": "aAw8rrIct6bk",
    "outputId": "eda1ec26-05ea-409e-8b59-46cd5c172bf5"
   },
   "outputs": [
    {
     "data": {
      "text/plain": [
       "0.07154004401278254"
      ]
     },
     "execution_count": 58,
     "metadata": {
      "tags": []
     },
     "output_type": "execute_result"
    }
   ],
   "source": [
    "# probability of sample word\n",
    "P('the')"
   ]
  },
  {
   "cell_type": "markdown",
   "metadata": {
    "id": "VUCVSzekuK8J"
   },
   "source": [
    "# CHANNEL MODEL"
   ]
  },
  {
   "cell_type": "code",
   "execution_count": null,
   "metadata": {
    "id": "goLHNMipGJ2u"
   },
   "outputs": [],
   "source": [
    "# function to generate the candidates\n",
    "def candidates(word): \n",
    "    return list(known([word])) or list(known(edits1(word))) or [word]"
   ]
  },
  {
   "cell_type": "code",
   "execution_count": null,
   "metadata": {
    "colab": {
     "base_uri": "https://localhost:8080/"
    },
    "executionInfo": {
     "elapsed": 999,
     "status": "ok",
     "timestamp": 1614186068324,
     "user": {
      "displayName": "aniket poojari",
      "photoUrl": "https://lh3.googleusercontent.com/a-/AOh14Ggq_cw5GlJ_HceHGjFtLxCCLPqiYvg5ffKS76adUw=s64",
      "userId": "09624879631889696305"
     },
     "user_tz": -330
    },
    "id": "VVm-ClGiz-tg",
    "outputId": "089b9915-f4af-4451-df87-ea38bb337db7"
   },
   "outputs": [
    {
     "data": {
      "text/plain": [
       "['lake',\n",
       " 'live',\n",
       " 'lane',\n",
       " 'leave',\n",
       " 'have',\n",
       " 'lame',\n",
       " 'lace',\n",
       " 'slave',\n",
       " 'love',\n",
       " 'late',\n",
       " 'lava',\n",
       " 'dave',\n",
       " 'cave',\n",
       " 'wave',\n",
       " 'save',\n",
       " 'ave',\n",
       " 'gave']"
      ]
     },
     "execution_count": 62,
     "metadata": {
      "tags": []
     },
     "output_type": "execute_result"
    }
   ],
   "source": [
    "# generating candidates for a sample word\n",
    "candidates('lave')"
   ]
  },
  {
   "cell_type": "code",
   "execution_count": null,
   "metadata": {
    "id": "uG4mF22xF--W"
   },
   "outputs": [],
   "source": [
    "# function to pick the best word out of the generated candidates\n",
    "def correction(word): \n",
    "    return max(candidates(word), key = P)"
   ]
  },
  {
   "cell_type": "code",
   "execution_count": null,
   "metadata": {
    "colab": {
     "base_uri": "https://localhost:8080/",
     "height": 35
    },
    "executionInfo": {
     "elapsed": 1028,
     "status": "ok",
     "timestamp": 1614186077595,
     "user": {
      "displayName": "aniket poojari",
      "photoUrl": "https://lh3.googleusercontent.com/a-/AOh14Ggq_cw5GlJ_HceHGjFtLxCCLPqiYvg5ffKS76adUw=s64",
      "userId": "09624879631889696305"
     },
     "user_tz": -330
    },
    "id": "X1weDIyr0fXe",
    "outputId": "f17569d8-635f-413f-b187-d68fdb33fdc1"
   },
   "outputs": [
    {
     "data": {
      "application/vnd.google.colaboratory.intrinsic+json": {
       "type": "string"
      },
      "text/plain": [
       "'language'"
      ]
     },
     "execution_count": 64,
     "metadata": {
      "tags": []
     },
     "output_type": "execute_result"
    }
   ],
   "source": [
    "# picking the best candidate for a sample word\n",
    "correction('lanuage')"
   ]
  },
  {
   "cell_type": "markdown",
   "metadata": {
    "id": "En243sXc0kv6"
   },
   "source": [
    "# AUTO CORRECTION"
   ]
  },
  {
   "cell_type": "code",
   "execution_count": null,
   "metadata": {
    "id": "_exEzv7ALWQ8"
   },
   "outputs": [],
   "source": [
    "# function to return the auto corrected sentence\n",
    "def sentence_corrector(sentence):\n",
    "    sentence = sentence.lower()\n",
    "    tokens = sentence.split()\n",
    "    corrected_sentence = []\n",
    "    for i in range(len(tokens)):\n",
    "        corrected_token = correction(tokens[i])\n",
    "        corrected_sentence.append(corrected_token)\n",
    "    return \" \".join(corrected_sentence)"
   ]
  },
  {
   "cell_type": "code",
   "execution_count": null,
   "metadata": {
    "colab": {
     "base_uri": "https://localhost:8080/",
     "height": 35
    },
    "executionInfo": {
     "elapsed": 1001,
     "status": "ok",
     "timestamp": 1614186130889,
     "user": {
      "displayName": "aniket poojari",
      "photoUrl": "https://lh3.googleusercontent.com/a-/AOh14Ggq_cw5GlJ_HceHGjFtLxCCLPqiYvg5ffKS76adUw=s64",
      "userId": "09624879631889696305"
     },
     "user_tz": -330
    },
    "id": "axYiMX6HMBJ-",
    "outputId": "7a398ae3-a78c-4639-a272-ccdc4b98466a"
   },
   "outputs": [
    {
     "data": {
      "application/vnd.google.colaboratory.intrinsic+json": {
       "type": "string"
      },
      "text/plain": [
       "'natural language processing'"
      ]
     },
     "execution_count": 70,
     "metadata": {
      "tags": []
     },
     "output_type": "execute_result"
    }
   ],
   "source": [
    "sentence_corrector('natural lanuage processing')"
   ]
  },
  {
   "cell_type": "code",
   "execution_count": null,
   "metadata": {
    "colab": {
     "base_uri": "https://localhost:8080/",
     "height": 35
    },
    "executionInfo": {
     "elapsed": 660,
     "status": "ok",
     "timestamp": 1614186132520,
     "user": {
      "displayName": "aniket poojari",
      "photoUrl": "https://lh3.googleusercontent.com/a-/AOh14Ggq_cw5GlJ_HceHGjFtLxCCLPqiYvg5ffKS76adUw=s64",
      "userId": "09624879631889696305"
     },
     "user_tz": -330
    },
    "id": "jxtwJlHfMag1",
    "outputId": "08047eb4-bd7b-4913-8d93-347de8cf2892"
   },
   "outputs": [
    {
     "data": {
      "application/vnd.google.colaboratory.intrinsic+json": {
       "type": "string"
      },
      "text/plain": [
       "'i am doing great'"
      ]
     },
     "execution_count": 71,
     "metadata": {
      "tags": []
     },
     "output_type": "execute_result"
    }
   ],
   "source": [
    "sentence_corrector('i am diing gret')"
   ]
  },
  {
   "cell_type": "code",
   "execution_count": null,
   "metadata": {
    "id": "ODJpF4zg_bFB"
   },
   "outputs": [],
   "source": []
  }
 ],
 "metadata": {
  "colab": {
   "collapsed_sections": [],
   "name": "Building-a-Spelling-Corrector.ipynb",
   "provenance": []
  },
  "kernelspec": {
   "display_name": "Python 3",
   "language": "python",
   "name": "python3"
  },
  "language_info": {
   "codemirror_mode": {
    "name": "ipython",
    "version": 3
   },
   "file_extension": ".py",
   "mimetype": "text/x-python",
   "name": "python",
   "nbconvert_exporter": "python",
   "pygments_lexer": "ipython3",
   "version": "3.8.5"
  }
 },
 "nbformat": 4,
 "nbformat_minor": 1
}
